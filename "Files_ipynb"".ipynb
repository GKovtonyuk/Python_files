{
  "nbformat": 4,
  "nbformat_minor": 0,
  "metadata": {
    "colab": {
      "provenance": [],
      "include_colab_link": true
    },
    "kernelspec": {
      "name": "python3",
      "display_name": "Python 3"
    },
    "language_info": {
      "name": "python"
    }
  },
  "cells": [
    {
      "cell_type": "markdown",
      "metadata": {
        "id": "view-in-github",
        "colab_type": "text"
      },
      "source": [
        "<a href=\"https://colab.research.google.com/github/GKovtonyuk/Python_files/blob/main/%22Files_ipynb%22%22.ipynb\" target=\"_parent\"><img src=\"https://colab.research.google.com/assets/colab-badge.svg\" alt=\"Open In Colab\"/></a>"
      ]
    },
    {
      "cell_type": "markdown",
      "source": [
        "# **Запис даних у файли**"
      ],
      "metadata": {
        "id": "fZVde6_tSiJz"
      }
    },
    {
      "cell_type": "markdown",
      "source": [
        "**Приклад 1.** Записати у файл назви кольорів\n",
        "white\n",
        "blue\n",
        "yellow\n",
        "red\n",
        "black\n",
        "brown\n",
        "green"
      ],
      "metadata": {
        "id": "rDFP_3kOQNyc"
      }
    },
    {
      "cell_type": "code",
      "source": [
        "color='''white\n",
        "blue\n",
        "yellow\n",
        "red\n",
        "black\n",
        "brown\n",
        "green\n",
        "violet'''\n",
        "f=open(\"color.txt\",\"w\")\n",
        "f.write(color) # записує рядок в файл\n",
        "f.close()"
      ],
      "metadata": {
        "id": "BUAAARsLQMG9"
      },
      "execution_count": 6,
      "outputs": []
    },
    {
      "cell_type": "markdown",
      "source": [
        "**write()** – записує звичайний рядок в файл. Якщо в якості параметра вказано Unicode-рядок, то проводиться спроба перетворити його в звичайний рядок. Так як за замовчуванням використовується кодування ASCII, спроба перетворити Unicode рядок (що містить українські літери) в звичайний рядок призведе до генерації винятку UnicodeEncodeError.\n",
        "Функція **write()** повертає число записаних байтів. Вона не додає ніяких пробілів або символів нового рядка, як це робить функція **print()**. За допомогою функції print() також можна записувати дані в текстовий файл:\n",
        "За замовчуванням функція **print()** додає пробіл після кожного аргументу і символ нового рядка в кінці. Для того щоб функція **print()** працювала як функція **write()**, треба передати їй два наступних аргументи:\n",
        "\n",
        "\n",
        "*   **sep** (роздільник, за замовчуванням це пробіл, ' ');\n",
        "*   **end** (символ кінця файлу, за замовчуванням це символ нового рядка, '\\n').\n",
        "\n",
        "Функція **print()** використовує значення за замовчуванням, якщо тільки не передати їй щось інше.\n"
      ],
      "metadata": {
        "id": "Exm6IX7qQzns"
      }
    },
    {
      "cell_type": "markdown",
      "source": [
        "**Приклад 2.** Створити файл та записати дані"
      ],
      "metadata": {
        "id": "10l4-5C_SFt6"
      }
    },
    {
      "cell_type": "code",
      "source": [
        "color='''red\n",
        "blue\n",
        "green\n",
        "brown'''\n",
        "f=open('color2.txt','wt')\n",
        "print(color,file=f,sep='',end='')\n",
        "print(color,sep='',end='')\n",
        "f.close()"
      ],
      "metadata": {
        "id": "mrVux5S4Q52k",
        "colab": {
          "base_uri": "https://localhost:8080/"
        },
        "outputId": "08a33811-85f7-4dde-81dc-6467f91b2dba"
      },
      "execution_count": 8,
      "outputs": [
        {
          "output_type": "stream",
          "name": "stdout",
          "text": [
            "red\n",
            "blue\n",
            "green\n",
            "brown"
          ]
        }
      ]
    },
    {
      "cell_type": "markdown",
      "source": [
        "# **Зчитування даних з файлу**"
      ],
      "metadata": {
        "id": "ve5VcNXlS3Ry"
      }
    },
    {
      "cell_type": "markdown",
      "source": [
        "Щоб повністю зчитати весь файл можна використати функцію **read()** без аргументів."
      ],
      "metadata": {
        "id": "9sHtZNgESCGz"
      }
    },
    {
      "cell_type": "markdown",
      "source": [
        "**Приклад 3**. Зчитати дані з файлу"
      ],
      "metadata": {
        "id": "jOiapvmdTK6x"
      }
    },
    {
      "cell_type": "code",
      "source": [
        "# Зчитати дані з файлу, вивести в консоль\n",
        "name=input(\"Введіть ім'я файла \")\n",
        "f=open(name,'rt')\n",
        "color=f.read()\n",
        "print(color)\n",
        "f.close()"
      ],
      "metadata": {
        "id": "ycH9D72jTHGR",
        "colab": {
          "base_uri": "https://localhost:8080/"
        },
        "outputId": "2da092ca-2cef-4426-def7-07c607a7bfb8"
      },
      "execution_count": 9,
      "outputs": [
        {
          "output_type": "stream",
          "name": "stdout",
          "text": [
            "Введіть ім'я файла color.txt\n",
            "white\n",
            "blue\n",
            "yellow\n",
            "red\n",
            "black\n",
            "brown\n",
            "green\n",
            "violet\n"
          ]
        }
      ]
    },
    {
      "cell_type": "markdown",
      "source": [
        "Також можна зчитувати файл по одному рядку за раз за допомогою функції **readline()**."
      ],
      "metadata": {
        "id": "UFD99EYJTaL6"
      }
    },
    {
      "cell_type": "markdown",
      "source": [
        "**Приклад 4**. Зчитувати дані з файлу по одному рядку."
      ],
      "metadata": {
        "id": "3r8RYbryTl6j"
      }
    },
    {
      "cell_type": "code",
      "source": [
        "# Зчитати файл по одному рядку\n",
        "f=open('color.txt','rt')\n",
        "print(f.readline())\n",
        "f.close()"
      ],
      "metadata": {
        "id": "LWOfChfPTei5",
        "colab": {
          "base_uri": "https://localhost:8080/"
        },
        "outputId": "14c6ca17-af08-45fb-fd77-f32b1cb6fa60"
      },
      "execution_count": 10,
      "outputs": [
        {
          "output_type": "stream",
          "name": "stdout",
          "text": [
            "white\n",
            "\n"
          ]
        }
      ]
    },
    {
      "cell_type": "markdown",
      "source": [
        "Для текстового файлу навіть порожній рядок має довжину, рівну 1 (символ нового рядка), такий рядок буде вважатися **True**. Коли весь файл буде зчитано, функція **readline()** (як і функція **read()**) поверне порожній рядок, який буде розцінено як **False**. Найпростіший спосіб зчитати текстовий файл – використати ітератор, що буде повертати по одному рядку за раз."
      ],
      "metadata": {
        "id": "yhN_xu8MT9dT"
      }
    },
    {
      "cell_type": "markdown",
      "source": [
        "**Приклад 5**. Зчитати дані з файлу за допомогою ітератора"
      ],
      "metadata": {
        "id": "_0EXAfSJUMbq"
      }
    },
    {
      "cell_type": "code",
      "source": [
        "f=open('color.txt','rt')\n",
        "for line in f:\n",
        "    print(line,end='')\n",
        "f.close()"
      ],
      "metadata": {
        "id": "th3dW9jtULtz",
        "colab": {
          "base_uri": "https://localhost:8080/"
        },
        "outputId": "417905d7-b2e8-4681-bf50-e2b17a04c4b3"
      },
      "execution_count": 11,
      "outputs": [
        {
          "output_type": "stream",
          "name": "stdout",
          "text": [
            "white\n",
            "blue\n",
            "yellow\n",
            "red\n",
            "black\n",
            "brown\n",
            "green\n",
            "violet"
          ]
        }
      ]
    },
    {
      "cell_type": "markdown",
      "source": [
        "# **Автоматичне закриття файлу**"
      ],
      "metadata": {
        "id": "_JFhxm1JUepl"
      }
    },
    {
      "cell_type": "markdown",
      "source": [
        "Якщо забути закрити файл після роботи над ним, його закриє Python після того, як буде видалено останнє посилання на нього. Це означає, що, якщо відкрити файл і не закрити його явно, він буде закритий автоматично по завершенні функції. Але можна відкрити файл всередині довгої функції або навіть основного розділу програми. Файл повинен бути закритий, щоб всі операції, що залишилися та записи були завершені.\n",
        "У Python є менеджери контексту для очищення об’єктів на зразок відкритих файлів. Можна використовувати конструкцію: **with** *вираз* **as** *змінна*\n"
      ],
      "metadata": {
        "id": "-J3_5zykUajr"
      }
    },
    {
      "cell_type": "markdown",
      "source": [
        "**Приклад 6**.Менеджер контексту для автоматичного закриття файлу. Запис даних у файл."
      ],
      "metadata": {
        "id": "HyYVo63fU2U6"
      }
    },
    {
      "cell_type": "code",
      "source": [
        "color='''11\n",
        "23\n",
        "45\n",
        "7'''\n",
        "with open('color_with.txt','wt') as f:\n",
        "    f.write(color)"
      ],
      "metadata": {
        "id": "B3FnW6ZsU-Xj"
      },
      "execution_count": 12,
      "outputs": []
    },
    {
      "cell_type": "markdown",
      "source": [
        "**Приклад 7_1.** У текстовому файл містить набір чисел, кожне з яких записано з нового рядка. Потрібно знайти cуму цих чисел.\n",
        "Розв'язок. Для розв’язання задачі, у програмі потрібно відкрити файл у текстовому режимі для читання і пройти по його колекції рядків.\n",
        "Для перевірки роботи програми створимо текстовий файл з іменем input.txt який розмістимо у тій же папці, що і файл з програмою. Заповнимо цей текстовий файл деякими числами, наприклад, таким чином:\n"
      ],
      "metadata": {
        "id": "W5fiZuB1VcZl"
      }
    },
    {
      "cell_type": "code",
      "source": [
        "f=open('input.txt','r')\n",
        "s=0\n",
        "for line in f:\n",
        "    s+=int(line)\n",
        "print('Сума чисел записаних в файл s={}'.format(s))\n",
        "f.close()"
      ],
      "metadata": {
        "id": "Tf3EkWpoVmKV",
        "colab": {
          "base_uri": "https://localhost:8080/"
        },
        "outputId": "ffb16dd4-91e2-4033-e62e-6ad31373dce2"
      },
      "execution_count": 15,
      "outputs": [
        {
          "output_type": "stream",
          "name": "stdout",
          "text": [
            "Сума чисел записаних в файл s=55\n"
          ]
        }
      ]
    },
    {
      "cell_type": "markdown",
      "source": [
        "**Приклад 7_2.**"
      ],
      "metadata": {
        "id": "kx62npFJV7eZ"
      }
    },
    {
      "cell_type": "code",
      "source": [
        "f=open('input.txt','r')\n",
        "a=f.read().split()\n",
        "for i in range(len(a)):\n",
        "    a[i]=int(a[i])\n",
        "print(\"max={}\".format(max(a)))\n",
        "f.close()"
      ],
      "metadata": {
        "id": "gX9jduTdWEA6",
        "colab": {
          "base_uri": "https://localhost:8080/"
        },
        "outputId": "aa8c4779-c78e-4f32-f263-cb5580357997"
      },
      "execution_count": 16,
      "outputs": [
        {
          "output_type": "stream",
          "name": "stdout",
          "text": [
            "max=10\n"
          ]
        }
      ]
    },
    {
      "cell_type": "markdown",
      "source": [
        "**Приклад 8.** Згенерувати текстовий файл, що буде містити послідовність чисел Фібоначчі, що обмежена заданим числом."
      ],
      "metadata": {
        "id": "G_yzKzKnWReT"
      }
    },
    {
      "cell_type": "code",
      "source": [
        "n = int(input(\"n=\"))\n",
        "f=open('fib.txt','w')\n",
        "a = b = 1\n",
        "print(a,b,file=f,sep=' ',end=' ')\n",
        "for i in range(1, n + 1):\n",
        "    c = a + b\n",
        "    a,b=b,c\n",
        "    print(b,file=f,sep=' ',end=' ')\n",
        "f.close()\n"
      ],
      "metadata": {
        "id": "M8BmPNliWWMD",
        "colab": {
          "base_uri": "https://localhost:8080/"
        },
        "outputId": "986f99ee-21e1-4109-c98f-1248367293bb"
      },
      "execution_count": 17,
      "outputs": [
        {
          "name": "stdout",
          "output_type": "stream",
          "text": [
            "n=12\n"
          ]
        }
      ]
    },
    {
      "cell_type": "markdown",
      "source": [
        "**Приклад 9_1.** Дано файл з цілочисловим масивом чисел.Вивести суму членів масиву.\n",
        "Створити файл в блокноті з розширенням .txt та заповнити числами (n=10).\n"
      ],
      "metadata": {
        "id": "CBLeMh_ePUCG"
      }
    },
    {
      "cell_type": "code",
      "execution_count": 20,
      "metadata": {
        "id": "4okHzuKsOorq",
        "colab": {
          "base_uri": "https://localhost:8080/"
        },
        "outputId": "b1aebf6f-ba40-4cdb-c654-8048bac09dc4"
      },
      "outputs": [
        {
          "output_type": "stream",
          "name": "stdout",
          "text": [
            "suma= 55\n"
          ]
        }
      ],
      "source": [
        "\n",
        "fread=open('file.txt')\n",
        "mas=fread.readline().split()\n",
        "\n",
        "s=0\n",
        "for i in range(10):\n",
        "    s+=int(mas[i])\n",
        "print(\"suma=\",s)\n",
        "fread.close()\n",
        "\n",
        "# записати результат file_sum.txt\n",
        "\n",
        "fwrite=open('file_sum.txt','w')\n",
        "fwrite.write(\"Сума чисел:\\n\")\n",
        "fwrite.write(str(s))\n",
        "fwrite.close()\n"
      ]
    },
    {
      "cell_type": "markdown",
      "source": [
        "**Приклад 9_2.** Дано файл з цілочисловим масивом чисел file2.txt. Вивести суму членів масиву.\n",
        "Створити файл  з розширенням .txt та заповнити числами (n=?).Записати результат обчислення в кінець файлу file2.txt."
      ],
      "metadata": {
        "id": "HTCCxbWDxRE3"
      }
    },
    {
      "cell_type": "code",
      "source": [
        "fread=open('fib.txt',\"r\")\n",
        "mas=fread.readline().split()\n",
        "\n",
        "s=0\n",
        "for i in range(len(mas)):\n",
        "    s+=int(mas[i])\n",
        "print(\"suma=\",s)\n",
        "fwrite=open('file2.txt','a')\n",
        "fwrite.write(\"\\nСума чисел:\\n\")\n",
        "fwrite.write(str(s))\n",
        "fread.close()\n",
        "\n",
        "fwrite=open('file_sum2.txt','w')\n",
        "fwrite.write(str(s))\n",
        "fwrite.close()"
      ],
      "metadata": {
        "id": "94-vLIaBxCCc",
        "colab": {
          "base_uri": "https://localhost:8080/"
        },
        "outputId": "dfaa76da-5d69-4aeb-e4d3-894c337041e9"
      },
      "execution_count": 21,
      "outputs": [
        {
          "output_type": "stream",
          "name": "stdout",
          "text": [
            "suma= 986\n"
          ]
        }
      ]
    },
    {
      "cell_type": "markdown",
      "source": [
        "**Приклад 10.** Структура містить такі поля: назва команди, кількість поразок, кількість перемог, кількість нічиїх. Вивести на екран команду, яка найбільше разів перемогла. Модифікувати свою програму опрацювання структур\n",
        "(лабораторна робота No 6) таким чином, щоб введені дані були записані у файл на диску\n",
        "і зчитані з нього."
      ],
      "metadata": {
        "id": "pvUfUJynQXrB"
      }
    },
    {
      "cell_type": "code",
      "source": [
        "class Team:\n",
        "    pass\n",
        "\n",
        "# Відкриваємо файл для запису\n",
        "f = open(\"Team.txt\", \"w\")\n",
        "\n",
        "# Записуємо дані у файл\n",
        "a = []\n",
        "n = int(input(\"Кількість команд: \"))\n",
        "for i in range(n):\n",
        "    a.append(Team())\n",
        "    a[i].NK = input(str(i + 1) + \"-ша команда:\\n Введіть Назву команди \")\n",
        "    a[i].KP = int(input(\"Введіть кількість поразок: \"))\n",
        "    a[i].KPeremog = int(input(\"Введіть кількість перемог: \"))\n",
        "    a[i].KN = int(input(\"Введіть кількість нічиїх: \"))\n",
        "\n",
        "print(\"*\" * 30)\n",
        "for i in range(n):\n",
        "    print(\"Назва команди\", a[i].NK, file=f)\n",
        "    print(\"Кількість поразок\", a[i].KP, file=f)\n",
        "    print(\"Кількість перемог\", a[i].KPeremog, file=f)\n",
        "    print(\"Кількість нічиїх\", a[i].KN, file=f)\n",
        "print(\"*\" * 30)\n",
        "\n",
        "# вибрати дію\n",
        "while True:\n",
        "    choice = input(\"Ви бажаєте закрити програму (exit) чи додати ще дані (add)? \")\n",
        "    if choice == \"exit\":\n",
        "        break\n",
        "    elif choice == \"add\":\n",
        "        # Закриваємо поточний файл\n",
        "        f.close()\n",
        "        # Відкриваємо файл для дописування\n",
        "        f = open(\"Team.txt\", \"a\")\n",
        "\n",
        "        # Записуємо нові дані у файл\n",
        "        a = []\n",
        "        n = int(input(\"Кількість команд: \"))\n",
        "        for i in range(n):\n",
        "            a.append(Team())\n",
        "            a[i].NK = input(str(i + 1) + \"-ша команда:\\n Введіть Назву команди \")\n",
        "            a[i].KP = int(input(\"Введіть кількість поразок: \"))\n",
        "            a[i].KPeremog = int(input(\"Введіть кількість перемог: \"))\n",
        "            a[i].KN = int(input(\"Введіть кількість нічиїх: \"))\n",
        "\n",
        "        print(\"*\" * 30)\n",
        "        for i in range(n):\n",
        "            print(\"Назва команди\", a[i].NK, file=f)\n",
        "            print(\"Кількість поразок\", a[i].KP, file=f)\n",
        "            print(\"Кількість перемог\", a[i].KPeremog, file=f)\n",
        "            print(\"Кількість нічиїх\", a[i].KN, file=f)\n",
        "print(\"*\" * 30,file=f)\n",
        "print(\"*\" * 30)\n",
        "\n",
        "#\n",
        "maxs = a[0].KPeremog\n",
        "for i in range(n):\n",
        "    if a[i].KPeremog > maxs:\n",
        "        maxs = a[i].KPeremog\n",
        "\n",
        "#\n",
        "print(\"Команди з найбільшою кількістю перемог:\")\n",
        "for i in range(n):\n",
        "    if a[i].KPeremog == maxs:\n",
        "        print(a[i].NK)\n",
        "\n",
        "f.close()\n",
        "\n",
        "f = open(\"Team.txt\", \"r\")\n",
        "print(f.read())\n",
        "f.close()\n"
      ],
      "metadata": {
        "id": "n_Bq1RyMQewr",
        "colab": {
          "base_uri": "https://localhost:8080/"
        },
        "outputId": "1f0f900b-98ff-4276-b7e6-7a00aaf5d4b6"
      },
      "execution_count": null,
      "outputs": [
        {
          "output_type": "stream",
          "name": "stdout",
          "text": [
            "Кількість команд: 2\n",
            "1-ша команда:\n",
            " Введіть Назву команди 1\n",
            "Введіть кількість поразок: 1\n",
            "Введіть кількість перемог: 12\n",
            "Введіть кількість нічиїх: 1\n",
            "2-ша команда:\n",
            " Введіть Назву команди 2\n",
            "Введіть кількість поразок: 0\n",
            "Введіть кількість перемог: 23\n",
            "Введіть кількість нічиїх: 1\n",
            "******************************\n",
            "******************************\n",
            "Ви бажаєте закрити програму (exit) чи додати ще дані (add)? add\n",
            "Кількість команд: 1\n",
            "1-ша команда:\n",
            " Введіть Назву команди 3\n",
            "Введіть кількість поразок: 1\n",
            "Введіть кількість перемог: 1\n",
            "Введіть кількість нічиїх: 1\n",
            "******************************\n",
            "Ви бажаєте закрити програму (exit) чи додати ще дані (add)? exit\n",
            "******************************\n",
            "Команди з найбільшою кількістю перемог:\n",
            "3\n",
            "Назва команди 1\n",
            "Кількість поразок 1\n",
            "Кількість перемог 12\n",
            "Кількість нічиїх 1\n",
            "Назва команди 2\n",
            "Кількість поразок 0\n",
            "Кількість перемог 23\n",
            "Кількість нічиїх 1\n",
            "Назва команди 3\n",
            "Кількість поразок 1\n",
            "Кількість перемог 1\n",
            "Кількість нічиїх 1\n",
            "******************************\n",
            "\n"
          ]
        }
      ]
    }
  ]
}